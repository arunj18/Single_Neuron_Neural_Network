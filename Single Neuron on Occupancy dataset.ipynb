{
 "cells": [
  {
   "cell_type": "code",
   "execution_count": 28,
   "metadata": {
    "collapsed": true
   },
   "outputs": [],
   "source": [
    "##########################################################################################\n",
    "# Author: Arun John 20-Sep-2017                                                          #\n",
    "##########################################################################################\n",
    "\n",
    "import matplotlib.pyplot as plt # this is to plot the change in cost with every iteration\n",
    "import numpy as np #this is to implement our model using vectorization instead of for loops\n",
    "\n",
    "##########################################################################################\n",
    "# Note: A exclusive for loop will be used for the number of iterations                   #\n",
    "#       that the model will be trained for. The more number of                           #\n",
    "#       iterations there are,,more is the accuracy of the estimated                      #\n",
    "#       parameters but also the training time will be higher.                            #\n",
    "##########################################################################################"
   ]
  },
  {
   "cell_type": "code",
   "execution_count": 29,
   "metadata": {},
   "outputs": [
    {
     "name": "stdout",
     "output_type": "stream",
     "text": [
      "(2665, 6)\n",
      "(8143, 6)\n"
     ]
    }
   ],
   "source": [
    "train_set = np.genfromtxt('datatraining.csv',delimiter=',') # Get the training data from the datatraining.csv file\n",
    "test_set = np.genfromtxt('datatest.csv',delimiter=',') #Get the training data from the datatest.csv file\n",
    "\n",
    "##########################################################################################\n",
    "# Note: The file containing the training data and the test data have                     #\n",
    "#       already been modified to show the relevant columns without                       #\n",
    "#       the top which contained the feature name.                                        #\n",
    "#       To see how the files looked originally,please refer to the                       #\n",
    "#       folder named Originals for the original files.                                   #\n",
    "##########################################################################################\n",
    "\n",
    "print(test_set.shape) #to see the dimensions of the test set\n",
    "print(train_set.shape) #to see the dimensions of the training set"
   ]
  },
  {
   "cell_type": "code",
   "execution_count": 30,
   "metadata": {},
   "outputs": [
    {
     "name": "stdout",
     "output_type": "stream",
     "text": [
      "(8143,)\n",
      "(2665,)\n"
     ]
    }
   ],
   "source": [
    "train_labels = train_set[:,5] #this is done to extract the expected labels from the training set\n",
    "test_labels = test_set[:,5] #extracting labels from the test set\n",
    "\n",
    "print(train_labels.shape) #show the dimensions of Y_training i.e. expected labels\n",
    "print(test_labels.shape) #show the dimensions of Y_test i.e. expected labels"
   ]
  },
  {
   "cell_type": "code",
   "execution_count": 31,
   "metadata": {},
   "outputs": [
    {
     "name": "stdout",
     "output_type": "stream",
     "text": [
      "(8143, 5)\n",
      "(2665, 5)\n"
     ]
    }
   ],
   "source": [
    "train_set= train_set[:,[0,1,2,3,4]] #extracting only the features from the training set\n",
    "test_set= test_set[:,[0,1,2,3,4]] #extracting only the features from the test set\n",
    "\n",
    "print(train_set.shape) #show the dimensions of the training set\n",
    "print(test_set.shape) #show the dimensions of the test set"
   ]
  },
  {
   "cell_type": "code",
   "execution_count": 32,
   "metadata": {
    "collapsed": true
   },
   "outputs": [],
   "source": [
    "train_set=train_set.T #for carrying out W.X + b to make the dimensions match,we take the transpose\n",
    "test_set=test_set.T #for the same reason as the training set,we take the tranpose\n",
    "train_labels=train_labels.T #as stated above\n",
    "test_labels=test_labels.T #as stated above\n",
    "train_set= train_set/255 #this is to normalize the data,here an arbitrary value is taken. THIS HAS NOTHING TO DO\n",
    "test_set= test_set/255 # WITH THE NORMALIZATION USED FOR IMAGES,\n",
    "\n",
    "np.random.seed(1) #this is setting the seed for the random function\n",
    "\n",
    "def sigmoid(z): #this is a helper function which will find out the sigmoid of a given input\n",
    "    A= 1/(1+(np.exp(-z))) #note np.exp is used because z will not necessarily be a single number\n",
    "    return A \n",
    "def initialize(dim): #this function is used to initialize the parameters W and b\n",
    "    W = np.random.randn(1,dim)*0.001 #this gives a matrix of lxl-1 but in this case since l=1,we get 1xl-1\n",
    "    b = 0 #since python does broadcasting,this can be done and W.X + b will be treated as a valid operation\n",
    "    return W,b"
   ]
  },
  {
   "cell_type": "code",
   "execution_count": 33,
   "metadata": {
    "collapsed": true
   },
   "outputs": [],
   "source": [
    "def model(X,Y,iterations=50000,learning_rate=0.05): #function to train the model given,training data,training labels\n",
    "    m=X.shape[1] #number of samples\n",
    "    W,b = initialize(X.shape[0]) #initialize the parameters\n",
    "    costs=[] #this is for plotting the costs after every iteration\n",
    "    for i in range(iterations): #to train the model for a given number of iterations\n",
    "        Z=np.dot(W,X)+b #performing W.X + b ,make sure your dimensions match up!\n",
    "        A = sigmoid(Z) #activation function\n",
    "        cost = -1*(np.sum(Y*np.log(A)+(1-Y)*np.log(1-A)))/m #calculating the cost\n",
    "        dw = np.dot((A-Y),X.T)/m #calculating dw,needed to update the parameters\n",
    "        db = np.sum(A-Y)/m #calculating db\n",
    "        W = W - learning_rate*dw #updating W\n",
    "        b = b - learning_rate*db #updating b\n",
    "        costs.append(cost) #append the current cosr to the costs list\n",
    "    plt.plot(costs) #plot the costs\n",
    "    plt.show() #show the plot\n",
    "    return costs,W,b"
   ]
  },
  {
   "cell_type": "code",
   "execution_count": 34,
   "metadata": {
    "collapsed": true
   },
   "outputs": [],
   "source": [
    "def predict(X,W,b,Y): #predict the labels,given the parameters,data and labels\n",
    "    m=X.shape[1] #number of samples\n",
    "    Y_prediction = np.zeros((1,m)) #initialize the predictions to all zeros\n",
    "    A = sigmoid(np.dot(W,X)+b) #get the predictions\n",
    "    for i in range(A.shape[1]):\n",
    "        Y_prediction[0][i]= int(A[0][i]/0.5) #bring it to either 0 or 1\n",
    "    return (100 - np.mean(np.abs(Y_prediction - Y)) * 100)"
   ]
  },
  {
   "cell_type": "code",
   "execution_count": 38,
   "metadata": {},
   "outputs": [
    {
     "data": {
      "image/png": "[encoded data removed]",
      "text/plain": [
       "<matplotlib.figure.Figure at 0x7f6a1916d630>"
      ]
     },
     "metadata": {},
     "output_type": "display_data"
    }
   ],
   "source": [
    "costs,W,b = model(train_set,train_labels,50000,0.001)"
   ]
  },
  {
   "cell_type": "code",
   "execution_count": 39,
   "metadata": {},
   "outputs": [
    {
     "name": "stdout",
     "output_type": "stream",
     "text": [
      "test set:  97.8986866792\n"
     ]
    }
   ],
   "source": [
    "print(\"test set: \",predict(test_set,W,b,test_labels))"
   ]
  },
  {
   "cell_type": "code",
   "execution_count": 40,
   "metadata": {},
   "outputs": [
    {
     "name": "stdout",
     "output_type": "stream",
     "text": [
      "training set:  97.0895247452\n"
     ]
    }
   ],
   "source": [
    "print(\"training set: \",predict(train_set,W,b,train_labels))"
   ]
  },
  {
   "cell_type": "code",
   "execution_count": 41,
   "metadata": {
    "collapsed": true
   },
   "outputs": [],
   "source": [
    "test2_set = np.genfromtxt('datatest2.csv',delimiter=',')\n",
    "test2_labels = test2_set[:,5]\n",
    "test2_set= test2_set[:,[0,1,2,3,4]]\n",
    "test2_labels=test2_labels.T\n",
    "test2_set=test2_set.T\n",
    "test2_set=test2_set/255"
   ]
  },
  {
   "cell_type": "code",
   "execution_count": 43,
   "metadata": {},
   "outputs": [
    {
     "name": "stdout",
     "output_type": "stream",
     "text": [
      "test 2 set:  98.5028712059\n"
     ]
    }
   ],
   "source": [
    "print(\"test 2 set: \",predict(test2_set,W,b,test2_labels))"
   ]
  },
  {
   "cell_type": "code",
   "execution_count": null,
   "metadata": {
    "collapsed": true
   },
   "outputs": [],
   "source": []
  }
 ],
 "metadata": {
  "kernelspec": {
   "display_name": "Python 3",
   "language": "python",
   "name": "python3"
  },
  "language_info": {
   "codemirror_mode": {
    "name": "ipython",
    "version": 3
   },
   "file_extension": ".py",
   "mimetype": "text/x-python",
   "name": "python",
   "nbconvert_exporter": "python",
   "pygments_lexer": "ipython3",
   "version": "3.6.1"
  }
 },
 "nbformat": 4,
 "nbformat_minor": 2
}
